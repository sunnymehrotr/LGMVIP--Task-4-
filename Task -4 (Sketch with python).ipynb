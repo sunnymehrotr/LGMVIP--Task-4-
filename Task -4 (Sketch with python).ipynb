{
 "cells": [
  {
   "cell_type": "markdown",
   "id": "16199a65",
   "metadata": {},
   "source": [
    "# Sketching with python"
   ]
  },
  {
   "cell_type": "markdown",
   "id": "37632eab",
   "metadata": {},
   "source": [
    "Author:**Sunny Mehrotra**"
   ]
  },
  {
   "cell_type": "markdown",
   "id": "661ade86",
   "metadata": {},
   "source": [
    "Task 4: Image to pencil sketch using python "
   ]
  },
  {
   "cell_type": "code",
   "execution_count": 1,
   "id": "d20e3d2f",
   "metadata": {},
   "outputs": [],
   "source": [
    "# importing the library\n",
    "import cv2"
   ]
  },
  {
   "cell_type": "code",
   "execution_count": 2,
   "id": "9d584a4e",
   "metadata": {},
   "outputs": [],
   "source": [
    "# loading the image \n",
    "img=cv2.imread('Iron man.jpg')"
   ]
  },
  {
   "cell_type": "code",
   "execution_count": 3,
   "id": "c24da5ea",
   "metadata": {},
   "outputs": [
    {
     "data": {
      "text/plain": [
       "array([[[124,  98,  84],\n",
       "        [127, 101,  87],\n",
       "        [135, 109,  95],\n",
       "        ...,\n",
       "        [ 58,  67,  76],\n",
       "        [ 58,  67,  76],\n",
       "        [ 53,  62,  71]],\n",
       "\n",
       "       [[128, 102,  88],\n",
       "        [131, 105,  91],\n",
       "        [136, 110,  96],\n",
       "        ...,\n",
       "        [ 57,  66,  75],\n",
       "        [ 57,  66,  75],\n",
       "        [ 52,  61,  70]],\n",
       "\n",
       "       [[135, 109,  95],\n",
       "        [136, 110,  96],\n",
       "        [139, 113,  97],\n",
       "        ...,\n",
       "        [ 55,  64,  73],\n",
       "        [ 55,  64,  73],\n",
       "        [ 51,  60,  69]],\n",
       "\n",
       "       ...,\n",
       "\n",
       "       [[ 52,  48,  47],\n",
       "        [ 49,  45,  44],\n",
       "        [ 47,  43,  42],\n",
       "        ...,\n",
       "        [ 26,  28,  38],\n",
       "        [ 26,  28,  38],\n",
       "        [ 28,  30,  40]],\n",
       "\n",
       "       [[ 52,  48,  47],\n",
       "        [ 49,  45,  44],\n",
       "        [ 47,  43,  42],\n",
       "        ...,\n",
       "        [ 36,  38,  48],\n",
       "        [ 37,  39,  49],\n",
       "        [ 36,  38,  48]],\n",
       "\n",
       "       [[ 52,  48,  47],\n",
       "        [ 49,  45,  44],\n",
       "        [ 47,  43,  42],\n",
       "        ...,\n",
       "        [ 35,  37,  47],\n",
       "        [ 33,  35,  45],\n",
       "        [ 29,  31,  41]]], dtype=uint8)"
      ]
     },
     "execution_count": 3,
     "metadata": {},
     "output_type": "execute_result"
    }
   ],
   "source": [
    "img"
   ]
  },
  {
   "cell_type": "code",
   "execution_count": 4,
   "id": "064fe986",
   "metadata": {},
   "outputs": [
    {
     "data": {
      "text/plain": [
       "(720, 1280, 3)"
      ]
     },
     "execution_count": 4,
     "metadata": {},
     "output_type": "execute_result"
    }
   ],
   "source": [
    "img.shape"
   ]
  },
  {
   "cell_type": "code",
   "execution_count": 6,
   "id": "39596c35",
   "metadata": {},
   "outputs": [
    {
     "data": {
      "text/plain": [
       "array([[ 97, 100, 108, ...,  69,  69,  64],\n",
       "       [101, 104, 109, ...,  68,  68,  63],\n",
       "       [108, 109, 111, ...,  66,  66,  62],\n",
       "       ...,\n",
       "       [ 48,  45,  43, ...,  31,  31,  33],\n",
       "       [ 48,  45,  43, ...,  41,  42,  41],\n",
       "       [ 48,  45,  43, ...,  40,  38,  34]], dtype=uint8)"
      ]
     },
     "execution_count": 6,
     "metadata": {},
     "output_type": "execute_result"
    }
   ],
   "source": [
    "# Adding the grey filter to the image\n",
    "grey_filter=cv2.cvtColor(img, cv2.COLOR_BGR2GRAY)\n",
    "grey_filter"
   ]
  },
  {
   "cell_type": "code",
   "execution_count": 7,
   "id": "b3f7acb4",
   "metadata": {},
   "outputs": [
    {
     "data": {
      "text/plain": [
       "array([[158, 155, 147, ..., 186, 186, 191],\n",
       "       [154, 151, 146, ..., 187, 187, 192],\n",
       "       [147, 146, 144, ..., 189, 189, 193],\n",
       "       ...,\n",
       "       [207, 210, 212, ..., 224, 224, 222],\n",
       "       [207, 210, 212, ..., 214, 213, 214],\n",
       "       [207, 210, 212, ..., 215, 217, 221]], dtype=uint8)"
      ]
     },
     "execution_count": 7,
     "metadata": {},
     "output_type": "execute_result"
    }
   ],
   "source": [
    "invert=cv2.bitwise_not(grey_filter)\n",
    "invert"
   ]
  },
  {
   "cell_type": "code",
   "execution_count": 9,
   "id": "ef1a4a61",
   "metadata": {},
   "outputs": [
    {
     "data": {
      "text/plain": [
       "array([[143, 143, 143, ..., 190, 190, 190],\n",
       "       [142, 143, 143, ..., 190, 190, 190],\n",
       "       [142, 142, 142, ..., 190, 190, 190],\n",
       "       ...,\n",
       "       [211, 211, 211, ..., 220, 220, 220],\n",
       "       [211, 211, 211, ..., 220, 220, 220],\n",
       "       [211, 211, 211, ..., 220, 220, 220]], dtype=uint8)"
      ]
     },
     "execution_count": 9,
     "metadata": {},
     "output_type": "execute_result"
    }
   ],
   "source": [
    "# adding the blur attribute of cv2 library\n",
    "blur=cv2.GaussianBlur(invert,(21,21),0)\n",
    "blur"
   ]
  },
  {
   "cell_type": "code",
   "execution_count": 11,
   "id": "db1617e5",
   "metadata": {},
   "outputs": [
    {
     "data": {
      "text/plain": [
       "array([[112, 112, 112, ...,  65,  65,  65],\n",
       "       [113, 112, 112, ...,  65,  65,  65],\n",
       "       [113, 113, 113, ...,  65,  65,  65],\n",
       "       ...,\n",
       "       [ 44,  44,  44, ...,  35,  35,  35],\n",
       "       [ 44,  44,  44, ...,  35,  35,  35],\n",
       "       [ 44,  44,  44, ...,  35,  35,  35]], dtype=uint8)"
      ]
     },
     "execution_count": 11,
     "metadata": {},
     "output_type": "execute_result"
    }
   ],
   "source": [
    "invertblur=cv2.bitwise_not(blur)\n",
    "invertblur"
   ]
  },
  {
   "cell_type": "code",
   "execution_count": 12,
   "id": "9cb2ed52",
   "metadata": {},
   "outputs": [
    {
     "data": {
      "text/plain": [
       "array([[221, 228, 246, ..., 255, 255, 251],\n",
       "       [228, 237, 248, ..., 255, 255, 247],\n",
       "       [244, 246, 250, ..., 255, 255, 243],\n",
       "       ...,\n",
       "       [255, 255, 249, ..., 226, 226, 240],\n",
       "       [255, 255, 249, ..., 255, 255, 255],\n",
       "       [255, 255, 249, ..., 255, 255, 248]], dtype=uint8)"
      ]
     },
     "execution_count": 12,
     "metadata": {},
     "output_type": "execute_result"
    }
   ],
   "source": [
    "sketch=cv2.divide(grey_filter,invertblur,scale=255.0)\n",
    "sketch"
   ]
  },
  {
   "cell_type": "code",
   "execution_count": 13,
   "id": "3bae8be8",
   "metadata": {},
   "outputs": [
    {
     "data": {
      "text/plain": [
       "True"
      ]
     },
     "execution_count": 13,
     "metadata": {},
     "output_type": "execute_result"
    }
   ],
   "source": [
    "cv2.imwrite('output.png',sketch)"
   ]
  },
  {
   "cell_type": "code",
   "execution_count": null,
   "id": "17019964",
   "metadata": {},
   "outputs": [],
   "source": []
  }
 ],
 "metadata": {
  "kernelspec": {
   "display_name": "Python 3 (ipykernel)",
   "language": "python",
   "name": "python3"
  },
  "language_info": {
   "codemirror_mode": {
    "name": "ipython",
    "version": 3
   },
   "file_extension": ".py",
   "mimetype": "text/x-python",
   "name": "python",
   "nbconvert_exporter": "python",
   "pygments_lexer": "ipython3",
   "version": "3.9.6"
  }
 },
 "nbformat": 4,
 "nbformat_minor": 5
}
